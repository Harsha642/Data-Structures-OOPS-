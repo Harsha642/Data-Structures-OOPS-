{
  "nbformat": 4,
  "nbformat_minor": 0,
  "metadata": {
    "colab": {
      "name": "OOPS.ipynb",
      "provenance": []
    },
    "kernelspec": {
      "name": "python3",
      "display_name": "Python 3"
    },
    "language_info": {
      "name": "python"
    }
  },
  "cells": [
    {
      "cell_type": "markdown",
      "source": [
        "# OOPS BASICS PYTHON"
      ],
      "metadata": {
        "id": "OVZVsT0Hvd2I"
      }
    },
    {
      "cell_type": "markdown",
      "source": [
        "Let's Create a class named Car which is Empty"
      ],
      "metadata": {
        "id": "WAabP8n9zoIw"
      }
    },
    {
      "cell_type": "code",
      "execution_count": null,
      "metadata": {
        "id": "nRAL3KOKvUFx"
      },
      "outputs": [],
      "source": [
        "# EMPTY CLASS\n",
        "class Car:\n",
        "  pass"
      ]
    },
    {
      "cell_type": "markdown",
      "source": [
        "Now we can use the class named Car to create objects:"
      ],
      "metadata": {
        "id": "RlB6C2ne0IHF"
      }
    },
    {
      "cell_type": "code",
      "source": [
        "# Object Instantiation\n",
        "car1=Car()"
      ],
      "metadata": {
        "id": "q7gW4F4GwL1s"
      },
      "execution_count": null,
      "outputs": []
    },
    {
      "cell_type": "code",
      "source": [
        "print(car1)"
      ],
      "metadata": {
        "colab": {
          "base_uri": "https://localhost:8080/"
        },
        "id": "iUvmEGjewaJ8",
        "outputId": "df005e1b-4b2f-4669-9a51-081a89b5aad7"
      },
      "execution_count": null,
      "outputs": [
        {
          "output_type": "stream",
          "name": "stdout",
          "text": [
            "<__main__.Car object at 0x7f1e4a7e17d0>\n"
          ]
        }
      ]
    },
    {
      "cell_type": "markdown",
      "source": [
        "car1 object is created at 0x7f1e4a7e17d0 this memory location"
      ],
      "metadata": {
        "id": "KsIbnSlFwhDQ"
      }
    },
    {
      "cell_type": "code",
      "source": [
        "dir(car1)\n",
        "# dir({object}) returns list of the attributes and methods of any object."
      ],
      "metadata": {
        "colab": {
          "base_uri": "https://localhost:8080/"
        },
        "id": "Lc1OGw7OwdqC",
        "outputId": "c1c166d1-697e-441a-e9da-e27e24e3c1d9"
      },
      "execution_count": null,
      "outputs": [
        {
          "output_type": "execute_result",
          "data": {
            "text/plain": [
              "['__class__',\n",
              " '__delattr__',\n",
              " '__dict__',\n",
              " '__dir__',\n",
              " '__doc__',\n",
              " '__eq__',\n",
              " '__format__',\n",
              " '__ge__',\n",
              " '__getattribute__',\n",
              " '__gt__',\n",
              " '__hash__',\n",
              " '__init__',\n",
              " '__init_subclass__',\n",
              " '__le__',\n",
              " '__lt__',\n",
              " '__module__',\n",
              " '__ne__',\n",
              " '__new__',\n",
              " '__reduce__',\n",
              " '__reduce_ex__',\n",
              " '__repr__',\n",
              " '__setattr__',\n",
              " '__sizeof__',\n",
              " '__str__',\n",
              " '__subclasshook__',\n",
              " '__weakref__']"
            ]
          },
          "metadata": {},
          "execution_count": 4
        }
      ]
    },
    {
      "cell_type": "markdown",
      "source": [
        "When working with objects; \n",
        "\n",
        "\n",
        "*   Variables are called Atrributes\n",
        "*   Functions are called Methods\n",
        "\n",
        "Note: Methods are very similar to functions, with the notable difference being that they are associated to objects of a specific class.\n"
      ],
      "metadata": {
        "id": "96REODh41HUZ"
      }
    },
    {
      "cell_type": "code",
      "source": [
        "# Defining some propeties/ attributes for the object car1\n",
        "\n",
        "car1.windows = 5\n",
        "car1.doors = 4\n"
      ],
      "metadata": {
        "id": "C2vHWPqwwTR9"
      },
      "execution_count": null,
      "outputs": []
    },
    {
      "cell_type": "code",
      "source": [
        "print(car1.windows)"
      ],
      "metadata": {
        "colab": {
          "base_uri": "https://localhost:8080/"
        },
        "id": "awLhrMgbwyBb",
        "outputId": "9071dd6f-9c6c-4c43-cdcd-d84b8cff18e0"
      },
      "execution_count": null,
      "outputs": [
        {
          "output_type": "stream",
          "name": "stdout",
          "text": [
            "5\n"
          ]
        }
      ]
    },
    {
      "cell_type": "code",
      "source": [
        "# Creating another object named car0 and defining it's propeties\n",
        "\n",
        "car0 = Car()\n",
        "car0.windows = 3\n",
        "car0.doors = 4"
      ],
      "metadata": {
        "id": "wTDEPLkBwxv5"
      },
      "execution_count": null,
      "outputs": []
    },
    {
      "cell_type": "code",
      "source": [
        "print(car0.windows)"
      ],
      "metadata": {
        "colab": {
          "base_uri": "https://localhost:8080/"
        },
        "id": "2fH3Oi9IxGRV",
        "outputId": "11eefe16-78ee-4022-ab67-76e5aa9dc0d6"
      },
      "execution_count": null,
      "outputs": [
        {
          "output_type": "stream",
          "name": "stdout",
          "text": [
            "3\n"
          ]
        }
      ]
    },
    {
      "cell_type": "markdown",
      "source": [
        "**Way to look all attribute in object**"
      ],
      "metadata": {
        "id": "M1_OHfUjab4I"
      }
    },
    {
      "cell_type": "code",
      "source": [
        "# To generate a dictionary from an arbitrary object using  __dict__ attribute\n",
        "car0.__dict__"
      ],
      "metadata": {
        "colab": {
          "base_uri": "https://localhost:8080/"
        },
        "id": "7CFQ6dOgBUSS",
        "outputId": "2e187f79-eafd-4ee3-999a-8649f227346a"
      },
      "execution_count": null,
      "outputs": [
        {
          "output_type": "execute_result",
          "data": {
            "text/plain": [
              "{'doors': 4, 'windows': 3}"
            ]
          },
          "metadata": {},
          "execution_count": 9
        }
      ]
    },
    {
      "cell_type": "code",
      "source": [
        "# To generate a dictionary from an arbitrary object using an in-built vars method\n",
        "vars(car0)"
      ],
      "metadata": {
        "colab": {
          "base_uri": "https://localhost:8080/"
        },
        "id": "62V1BHwlB-61",
        "outputId": "bc5d01ab-158d-44c4-e494-b392f323ec82"
      },
      "execution_count": null,
      "outputs": [
        {
          "output_type": "execute_result",
          "data": {
            "text/plain": [
              "{'doors': 4, 'windows': 3}"
            ]
          },
          "metadata": {},
          "execution_count": 10
        }
      ]
    },
    {
      "cell_type": "markdown",
      "source": [
        "This is a bad practice approach, if we want to add some more attributes we should define them for each and every object of the class. So instead of doing this way we had nice inbuilt function named __init__. This function acts like a Constructor. Constructor basically gets used in order to initialize how many number of propeties are getting used inside that particular class."
      ],
      "metadata": {
        "id": "UUl5hdmxxX5Z"
      }
    },
    {
      "cell_type": "code",
      "source": [
        "# get attribute\n",
        "getattr(car0,\"doors\")"
      ],
      "metadata": {
        "colab": {
          "base_uri": "https://localhost:8080/"
        },
        "id": "08Ma3Qgzas3d",
        "outputId": "7f49809c-27f6-46a6-ace1-a04884075d0e"
      },
      "execution_count": null,
      "outputs": [
        {
          "output_type": "execute_result",
          "data": {
            "text/plain": [
              "4"
            ]
          },
          "metadata": {},
          "execution_count": 11
        }
      ]
    },
    {
      "cell_type": "code",
      "source": [
        "# delete attribute in object\n",
        "delattr(car0,\"doors\")"
      ],
      "metadata": {
        "id": "jXd-9qfbaySD"
      },
      "execution_count": null,
      "outputs": []
    },
    {
      "cell_type": "code",
      "source": [
        "car0.__dict__"
      ],
      "metadata": {
        "colab": {
          "base_uri": "https://localhost:8080/"
        },
        "id": "9ZD6LtJNbBLR",
        "outputId": "a38ca79a-8d89-4a15-a6d4-628facf63530"
      },
      "execution_count": null,
      "outputs": [
        {
          "output_type": "execute_result",
          "data": {
            "text/plain": [
              "{'windows': 3}"
            ]
          },
          "metadata": {},
          "execution_count": 13
        }
      ]
    },
    {
      "cell_type": "markdown",
      "source": [
        "# Understanding Init \n",
        "\n",
        "\n",
        "\n"
      ],
      "metadata": {
        "id": "UBjx7PG4sfJZ"
      }
    },
    {
      "cell_type": "markdown",
      "source": [
        "When you create a new object of a class, Python automatically calls the __init__() method to initialize the object’s attributes.\n",
        "\n",
        "Unlike regular methods, the __init__() method has two underscores on each side. Therefore, the __init__() is often called dunder init. The name comes abbreviation of the double underscores init.\n",
        "\n",
        "The double underscores at both sides of the __init__() method indicate that Python will use the method internally. In other words, you should not explicitly call this method.\n",
        "\n",
        "Since Python will automatically call the __init__() method immediately after creating a new object, you can use the __init__() method to initialize the object’s attributes."
      ],
      "metadata": {
        "id": "SnUphfbA-JU9"
      }
    },
    {
      "cell_type": "code",
      "source": [
        "# A Sample class with init method\n",
        "class Person:\n",
        " \n",
        "    # init method or constructor\n",
        "    def __init__(self, name):\n",
        "        self.name = name\n",
        " \n",
        "    # Sample Method\n",
        "    def say_hi(self):\n",
        "        print('Hello, my name is', self.name)\n",
        " \n",
        " \n",
        "p = Person('Nikhil')\n",
        "p.say_hi()"
      ],
      "metadata": {
        "colab": {
          "base_uri": "https://localhost:8080/"
        },
        "id": "XRRKxHf99gYs",
        "outputId": "74f175a8-3dbe-4fcd-ec0e-b79f79bf3c47"
      },
      "execution_count": null,
      "outputs": [
        {
          "output_type": "stream",
          "name": "stdout",
          "text": [
            "Hello, my name is Nikhil\n"
          ]
        }
      ]
    },
    {
      "cell_type": "markdown",
      "source": [
        "In the above example, a person name Nikhil is created. While creating a person, “Nikhil” is passed as an argument, this argument will be passed to the __init__ method to initialize the object. The keyword self represents the instance of a class and binds the attributes with the given arguments. Similarly, many objects of the Person class can be created by passing different names as arguments."
      ],
      "metadata": {
        "id": "RYHzCsrt9iVu"
      }
    },
    {
      "cell_type": "code",
      "source": [
        "class Person:\n",
        "  def __init__(self, name, age):\n",
        "    self.name = name\n",
        "    self.age = age\n",
        "\n",
        "p1 = Person(\"John\", 36)\n",
        "\n",
        "print(p1.name)\n",
        "print(p1.age)"
      ],
      "metadata": {
        "colab": {
          "base_uri": "https://localhost:8080/"
        },
        "id": "S67pflir0gcP",
        "outputId": "40a75020-b6bf-444c-8073-4b41034ea972"
      },
      "execution_count": null,
      "outputs": [
        {
          "output_type": "stream",
          "name": "stdout",
          "text": [
            "John\n",
            "36\n"
          ]
        }
      ]
    },
    {
      "cell_type": "markdown",
      "source": [
        "# Using SELF \n",
        "\n",
        "https://www.youtube.com/watch?v=oaiQ5hYKHTE&ab_channel=PythonForEveryone\n"
      ],
      "metadata": {
        "id": "LWtv22ElePWn"
      }
    },
    {
      "cell_type": "markdown",
      "source": [
        "Self represents the instance of the class. By using the “self”  we can access the attributes and methods of the class in python. It binds the attributes with the given arguments.\n",
        "\n",
        "In more clear way you can say that SELF has following Characteristic-\n",
        "\n",
        "*Self is always pointing to Current Object.*"
      ],
      "metadata": {
        "id": "v4LS2tr2-7K3"
      }
    },
    {
      "cell_type": "code",
      "source": [
        "class Person :\n",
        "  company = \"abc\"\n",
        "\n",
        "  def __init__(self) :\n",
        "    self.age = 23\n",
        "p1 = Person()\n",
        "p2 = Person()\n",
        "p1.age = 35\n",
        "print(p2.age)"
      ],
      "metadata": {
        "colab": {
          "base_uri": "https://localhost:8080/"
        },
        "id": "-lf1riGFeSTS",
        "outputId": "4aed1b1f-8bfc-4e65-80eb-7c21ebbb61a6"
      },
      "execution_count": null,
      "outputs": [
        {
          "output_type": "stream",
          "name": "stdout",
          "text": [
            "23\n"
          ]
        }
      ]
    },
    {
      "cell_type": "code",
      "source": [
        "class Person :\n",
        "  company = \"abc\"\n",
        "\n",
        "  def __init__(heey) :\n",
        "    heey.age = 23\n",
        "p1 = Person()\n",
        "p2 = Person()\n",
        "p1.age = 35\n",
        "print(p2.age)"
      ],
      "metadata": {
        "colab": {
          "base_uri": "https://localhost:8080/"
        },
        "id": "xWGxbQeIqPOm",
        "outputId": "96947d2b-be86-4ff1-a974-a8821d363982"
      },
      "execution_count": null,
      "outputs": [
        {
          "output_type": "stream",
          "name": "stdout",
          "text": [
            "23\n"
          ]
        }
      ]
    },
    {
      "cell_type": "code",
      "source": [
        "class person :\n",
        "  def display(d) :\n",
        "    print(\"Hello\")\n",
        "\n",
        "p=person()\n",
        "p.display()"
      ],
      "metadata": {
        "colab": {
          "base_uri": "https://localhost:8080/"
        },
        "id": "eJN7FnsU677K",
        "outputId": "69c6440f-b9a5-4fd7-f65b-811768853661"
      },
      "execution_count": null,
      "outputs": [
        {
          "output_type": "stream",
          "name": "stdout",
          "text": [
            "Hello\n"
          ]
        }
      ]
    },
    {
      "cell_type": "markdown",
      "source": [
        "# Encapsulation"
      ],
      "metadata": {
        "id": "ur1cNdmV6wZP"
      }
    },
    {
      "cell_type": "markdown",
      "source": [
        "Encapuslation has two major functions :\n",
        "\n",
        "\n",
        "*   Bundling of related data and methods that operate on that data.\n",
        "*   Restricting the direct access to some of the object's attributes.\n",
        "\n"
      ],
      "metadata": {
        "id": "u2SJEocOG-TE"
      }
    },
    {
      "cell_type": "markdown",
      "source": [
        "Encapsulation : Bundling of related **properties** and **actions** together.\n",
        "\n",
        "Classes can be used to **bundle related data & functions** in programming, thus enabling **Encapsulation**."
      ],
      "metadata": {
        "id": "2BG4ToxjFzz7"
      }
    },
    {
      "cell_type": "markdown",
      "source": [
        "# Python OOPS Inheritance\n",
        "\n",
        "1. https://www.youtube.com/watch?v=z1rsJohT9W0&ab_channel=AnInsightfulTechie\n",
        "\n",
        "2. https://www.youtube.com/watch?v=tX_v8dgb_7I&ab_channel=AnInsightfulTechie\n"
      ],
      "metadata": {
        "id": "3PDXBhTp3ZQn"
      }
    },
    {
      "cell_type": "code",
      "source": [
        "# All class variables are public \n",
        "# Car Blueprint\n",
        "\n",
        "class Car():\n",
        "\n",
        "# CLASS DATA ATTRIBUTES/ MEMBERS \n",
        "  def __init__(self,windows,doors,enginetype) :\n",
        "    self.windows = windows\n",
        "    self.doors = doors\n",
        "    self.enginetype = enginetype\n",
        "\n",
        "# CLASS MEMBER FUNCTIONS/ METHODS \n",
        "  def drive(self):\n",
        "    print(\"The person drive the car\")\n"
      ],
      "metadata": {
        "id": "zxD7H1p_4cMO"
      },
      "execution_count": null,
      "outputs": []
    },
    {
      "cell_type": "code",
      "source": [
        "car2=Car(4,5,\"diesel\")"
      ],
      "metadata": {
        "id": "wqPRNnMR59IL"
      },
      "execution_count": null,
      "outputs": []
    },
    {
      "cell_type": "code",
      "source": [
        "dir(car2)"
      ],
      "metadata": {
        "colab": {
          "base_uri": "https://localhost:8080/"
        },
        "id": "lxtSKUhW6EYf",
        "outputId": "8fb8dcdd-00fc-455d-c1c0-da61d95ed4c1"
      },
      "execution_count": null,
      "outputs": [
        {
          "output_type": "execute_result",
          "data": {
            "text/plain": [
              "['__class__',\n",
              " '__delattr__',\n",
              " '__dict__',\n",
              " '__dir__',\n",
              " '__doc__',\n",
              " '__eq__',\n",
              " '__format__',\n",
              " '__ge__',\n",
              " '__getattribute__',\n",
              " '__gt__',\n",
              " '__hash__',\n",
              " '__init__',\n",
              " '__init_subclass__',\n",
              " '__le__',\n",
              " '__lt__',\n",
              " '__module__',\n",
              " '__ne__',\n",
              " '__new__',\n",
              " '__reduce__',\n",
              " '__reduce_ex__',\n",
              " '__repr__',\n",
              " '__setattr__',\n",
              " '__sizeof__',\n",
              " '__str__',\n",
              " '__subclasshook__',\n",
              " '__weakref__',\n",
              " 'doors',\n",
              " 'drive',\n",
              " 'enginetype',\n",
              " 'windows']"
            ]
          },
          "metadata": {},
          "execution_count": 21
        }
      ]
    },
    {
      "cell_type": "code",
      "source": [
        "car2.windows"
      ],
      "metadata": {
        "colab": {
          "base_uri": "https://localhost:8080/"
        },
        "id": "Jyx5YU7a6PtA",
        "outputId": "5965b56b-a380-4879-e6de-bd8a636834e7"
      },
      "execution_count": null,
      "outputs": [
        {
          "output_type": "execute_result",
          "data": {
            "text/plain": [
              "4"
            ]
          },
          "metadata": {},
          "execution_count": 22
        }
      ]
    },
    {
      "cell_type": "code",
      "source": [
        "car2.drive()  \n",
        "# Method 'drive' is acting on the object of the type 'Car' that is stored in 'car2' variable"
      ],
      "metadata": {
        "colab": {
          "base_uri": "https://localhost:8080/"
        },
        "id": "CovO9TJd6Thw",
        "outputId": "1b41bb84-1111-44e7-9379-047fc4736b03"
      },
      "execution_count": null,
      "outputs": [
        {
          "output_type": "stream",
          "name": "stdout",
          "text": [
            "The person drive the car\n"
          ]
        }
      ]
    },
    {
      "cell_type": "markdown",
      "source": [
        "\n",
        "\n",
        "*   DATA MEMEBERS of an object can be accessed by \".\"(dot) operator on the object\n",
        "\n",
        "```\n",
        "-------------------- { <objectname>.<attributename> }--------------------  \n",
        "```\n",
        "*   MEMEBER FUNCTIONS are invoked by \".\"(dot) operated on the object.           \n",
        "\n",
        "```\n",
        "-------------------- { <objectname>.<methodname>() }--------------------  \n",
        "```\n",
        "\n",
        "\n",
        "\n"
      ],
      "metadata": {
        "id": "U2Fl4EZct_Ks"
      }
    },
    {
      "cell_type": "code",
      "source": [
        "car2.windows = 2"
      ],
      "metadata": {
        "id": "JMlYdUtRkNSD"
      },
      "execution_count": null,
      "outputs": []
    },
    {
      "cell_type": "code",
      "source": [
        "car2.windows"
      ],
      "metadata": {
        "colab": {
          "base_uri": "https://localhost:8080/"
        },
        "id": "6Ag_Ow8nkU25",
        "outputId": "561219a2-858f-4bf4-b1db-988dfaeb4379"
      },
      "execution_count": null,
      "outputs": [
        {
          "output_type": "execute_result",
          "data": {
            "text/plain": [
              "2"
            ]
          },
          "metadata": {},
          "execution_count": 25
        }
      ]
    },
    {
      "cell_type": "markdown",
      "source": [
        "Aftertime we can always come up with additional functionalities for the class Car which are specific to each model. For example there are lot of brands in the Car such are Audi, BMW, Ferrari etc. All of the Cars share some common features such as having four wheels etc. but each car brands have different unique things differentiates them such as there milage, using AI etc. Better way to program in this situtaion is to create a Parent class 'Car' and inherit the above properties and add remaing functionalities to a new class. This can be done using Inheritance. \n",
        "\n",
        "Derived class inherits features from the base class where new features can be added to it. This results in re-usability of code\n",
        "\n",
        "\n",
        "https://www.learnbyexample.org/python-inheritance/\n"
      ],
      "metadata": {
        "id": "2g6XI-ns6rZC"
      }
    },
    {
      "cell_type": "code",
      "source": [
        "# Audi : Child Class \n",
        "# Car : Parent Class\n",
        "class audi(Car):  \n",
        "  def __init__(self,windows,doors,enginetype,enableAI) :\n",
        "    self.enableAI = enableAI\n",
        "\n",
        "    # To reuse Parent Class 'Car' \n",
        "    super().__init__(windows,doors,enginetype)\n",
        "    \n",
        "  def selfdriving(self):\n",
        "    print(\"Audi supports self driving\")\n",
        "\n",
        "# Even parameters such as windows, doors, enginetype created in Parent Class can\n",
        "# be accessed by Child Class due to inheritance.\n",
        "# So Inheritance means we are inheriting everything that is there in the base (Parent) class\n"
      ],
      "metadata": {
        "id": "0-s9BJKt6d8A"
      },
      "execution_count": null,
      "outputs": []
    },
    {
      "cell_type": "code",
      "source": [
        "audiQ7=audi(5,5,\"diesel\",True)"
      ],
      "metadata": {
        "id": "tX9VQY379D_Q"
      },
      "execution_count": null,
      "outputs": []
    },
    {
      "cell_type": "code",
      "source": [
        "dir(audiQ7)"
      ],
      "metadata": {
        "colab": {
          "base_uri": "https://localhost:8080/"
        },
        "id": "6budhgWu9JTr",
        "outputId": "0f6772e8-235b-434a-d27f-324e8ffb28dc"
      },
      "execution_count": null,
      "outputs": [
        {
          "output_type": "execute_result",
          "data": {
            "text/plain": [
              "['__class__',\n",
              " '__delattr__',\n",
              " '__dict__',\n",
              " '__dir__',\n",
              " '__doc__',\n",
              " '__eq__',\n",
              " '__format__',\n",
              " '__ge__',\n",
              " '__getattribute__',\n",
              " '__gt__',\n",
              " '__hash__',\n",
              " '__init__',\n",
              " '__init_subclass__',\n",
              " '__le__',\n",
              " '__lt__',\n",
              " '__module__',\n",
              " '__ne__',\n",
              " '__new__',\n",
              " '__reduce__',\n",
              " '__reduce_ex__',\n",
              " '__repr__',\n",
              " '__setattr__',\n",
              " '__sizeof__',\n",
              " '__str__',\n",
              " '__subclasshook__',\n",
              " '__weakref__',\n",
              " 'doors',\n",
              " 'drive',\n",
              " 'enableAI',\n",
              " 'enginetype',\n",
              " 'selfdriving',\n",
              " 'windows']"
            ]
          },
          "metadata": {},
          "execution_count": 28
        }
      ]
    },
    {
      "cell_type": "code",
      "source": [
        "audiQ7.windows\n",
        "# audiQ7.doors\n",
        "# audiQ7.enableAI\n",
        "# type(audiQ7.enableAI)\n",
        "# audiQ7.drive()\n",
        "# audiQ7.selfdriving()"
      ],
      "metadata": {
        "colab": {
          "base_uri": "https://localhost:8080/"
        },
        "id": "S9sDk07J9Kgw",
        "outputId": "cb814f70-3c95-4d1b-c63d-e14c0935bacb"
      },
      "execution_count": null,
      "outputs": [
        {
          "output_type": "execute_result",
          "data": {
            "text/plain": [
              "5"
            ]
          },
          "metadata": {},
          "execution_count": 29
        }
      ]
    },
    {
      "cell_type": "markdown",
      "source": [
        ""
      ],
      "metadata": {
        "id": "ItSbN1IPCxpJ"
      }
    },
    {
      "cell_type": "markdown",
      "source": [
        "# Some Experiments \n",
        "\n",
        "https://www.geeksforgeeks.org/python-classes-and-objects/\n",
        "Nice basics\n"
      ],
      "metadata": {
        "id": "jQk-DSW08GBo"
      }
    },
    {
      "cell_type": "code",
      "source": [
        "class Exp :\n",
        "  \n",
        "  # Class Variable 'company' \n",
        "  company = \"abc\"\n",
        "  print(\"HI\")\n",
        "\n",
        "  # Instance Variable 'age'\n",
        "  def __init__(self) :\n",
        "    self.age = 23\n",
        "    print(\"Heyoo\")\n",
        "\n",
        "exp1 = Exp()\n",
        "\n",
        "# Printing Class Variable : Two Ways\n",
        "print(Exp.company)\n",
        "print(exp1.company)\n",
        "\n",
        "# Printing Instance Variable : Only one way\n",
        "print(exp1.age)\n"
      ],
      "metadata": {
        "colab": {
          "base_uri": "https://localhost:8080/"
        },
        "id": "lvF8_bgP9vdQ",
        "outputId": "142277e4-b040-4e1c-c0f6-52121ea8ebb1"
      },
      "execution_count": null,
      "outputs": [
        {
          "output_type": "stream",
          "name": "stdout",
          "text": [
            "HI\n",
            "Heyoo\n",
            "abc\n",
            "abc\n",
            "23\n"
          ]
        }
      ]
    },
    {
      "cell_type": "markdown",
      "source": [
        "https://github.com/arvimal/oop_with_python\n",
        "\n",
        "\n",
        "https://github.com/svaibhav2809/Data-Structures-Algorithms-in-Python-CodingNinjas\n",
        "\n",
        "\n"
      ],
      "metadata": {
        "id": "YzPRDDLreGDV"
      }
    }
  ]
}